{
 "cells": [
  {
   "cell_type": "code",
   "execution_count": 1,
   "metadata": {},
   "outputs": [],
   "source": [
    "import intake\n",
    "import numpy as np"
   ]
  },
  {
   "cell_type": "code",
   "execution_count": 2,
   "metadata": {},
   "outputs": [
    {
     "data": {
      "application/json": "gcs:\n  args:\n    path: https://malariagen.github.io/intake/gcs.yml\n  description: ''\n  driver: intake.catalog.local.YAMLFileCatalog\n  metadata:\n    version: 1\n",
      "text/plain": [
       "gcs:\n",
       "  args:\n",
       "    path: https://malariagen.github.io/intake/gcs.yml\n",
       "  description: ''\n",
       "  driver: intake.catalog.local.YAMLFileCatalog\n",
       "  metadata:\n",
       "    version: 1\n"
      ]
     },
     "metadata": {
      "application/json": {
       "root": "gcs"
      }
     },
     "output_type": "display_data"
    }
   ],
   "source": [
    "cat = intake.open_catalog('https://malariagen.github.io/intake/gcs.yml')\n",
    "cat"
   ]
  },
  {
   "cell_type": "code",
   "execution_count": 3,
   "metadata": {},
   "outputs": [
    {
     "data": {
      "text/plain": [
       "['samples',\n",
       " 'snps',\n",
       " 'snps_pass',\n",
       " 'snps_pass_biallelic',\n",
       " 'haps',\n",
       " 'accessibility',\n",
       " 'allele_counts']"
      ]
     },
     "execution_count": 3,
     "metadata": {},
     "output_type": "execute_result"
    }
   ],
   "source": [
    "ag1 = cat.ag1\n",
    "list(ag1)"
   ]
  },
  {
   "cell_type": "code",
   "execution_count": 4,
   "metadata": {},
   "outputs": [],
   "source": [
    "snps = ag1.snps.to_zarr()"
   ]
  },
  {
   "cell_type": "code",
   "execution_count": 5,
   "metadata": {},
   "outputs": [],
   "source": [
    "chroms = '2R', '2L', '3R', '3L', 'X'"
   ]
  },
  {
   "cell_type": "code",
   "execution_count": 6,
   "metadata": {},
   "outputs": [
    {
     "name": "stdout",
     "output_type": "stream",
     "text": [
      "2R 14080970\n",
      "2L 10377280\n",
      "3R 13167162\n",
      "3L 9643193\n",
      "X 5257352\n"
     ]
    },
    {
     "data": {
      "text/plain": [
       "52525957"
      ]
     },
     "execution_count": 6,
     "metadata": {},
     "output_type": "execute_result"
    }
   ],
   "source": [
    "n_snps_wg = 0\n",
    "for chrom in chroms:\n",
    "    n_snps_chrom = np.count_nonzero(snps[chrom]['variants/FILTER_PASS'][:])\n",
    "    print(chrom, n_snps_chrom)\n",
    "    n_snps_wg += n_snps_chrom\n",
    "n_snps_wg"
   ]
  },
  {
   "cell_type": "code",
   "execution_count": 7,
   "metadata": {},
   "outputs": [
    {
     "name": "stdout",
     "output_type": "stream",
     "text": [
      "2R 17040239\n",
      "2L 12614918\n",
      "3R 16420337\n",
      "3L 12032130\n",
      "X 6374367\n"
     ]
    },
    {
     "data": {
      "text/plain": [
       "64481991"
      ]
     },
     "execution_count": 7,
     "metadata": {},
     "output_type": "execute_result"
    }
   ],
   "source": [
    "n_alts_wg = 0\n",
    "for chrom in chroms:\n",
    "    filter_pass = snps[chrom]['variants/FILTER_PASS'][:]\n",
    "    n_alts_chrom = snps[chrom]['variants/numalt'][:][filter_pass].sum()\n",
    "    print(chrom, n_alts_chrom)\n",
    "    n_alts_wg += n_alts_chrom\n",
    "n_alts_wg"
   ]
  },
  {
   "cell_type": "code",
   "execution_count": 8,
   "metadata": {},
   "outputs": [
    {
     "name": "stdout",
     "output_type": "stream",
     "text": [
      "2R [       0 11332702  2537267   211001]\n",
      "2L [      0 8296600 1923722  156958]\n",
      "3R [       0 10178803  2723543   264816]\n",
      "3L [      0 7449486 1998477  195230]\n",
      "X [      0 4219279  959131   78942]\n"
     ]
    },
    {
     "data": {
      "text/plain": [
       "array([       0, 41476870, 10142140,   906947])"
      ]
     },
     "execution_count": 8,
     "metadata": {},
     "output_type": "execute_result"
    }
   ],
   "source": [
    "numalt_bincount_wg = None\n",
    "for chrom in chroms:\n",
    "    filter_pass = snps[chrom]['variants/FILTER_PASS'][:]\n",
    "    numalt_bincount_chrom = np.bincount(snps[chrom]['variants/numalt'][:][filter_pass])\n",
    "    print(chrom, numalt_bincount_chrom)\n",
    "    if numalt_bincount_wg is None:\n",
    "        numalt_bincount_wg = numalt_bincount_chrom\n",
    "    else:\n",
    "        numalt_bincount_wg += numalt_bincount_chrom\n",
    "numalt_bincount_wg"
   ]
  },
  {
   "cell_type": "code",
   "execution_count": 9,
   "metadata": {},
   "outputs": [
    {
     "data": {
      "text/plain": [
       "11049087"
      ]
     },
     "execution_count": 9,
     "metadata": {},
     "output_type": "execute_result"
    }
   ],
   "source": [
    "numalt_bincount_wg[2:].sum()"
   ]
  },
  {
   "cell_type": "code",
   "execution_count": 10,
   "metadata": {},
   "outputs": [
    {
     "data": {
      "text/plain": [
       "0.7896452034181881"
      ]
     },
     "execution_count": 10,
     "metadata": {},
     "output_type": "execute_result"
    }
   ],
   "source": [
    "numalt_bincount_wg[1] / n_snps_wg"
   ]
  },
  {
   "cell_type": "code",
   "execution_count": 11,
   "metadata": {},
   "outputs": [
    {
     "data": {
      "text/plain": [
       "0.21035479658181191"
      ]
     },
     "execution_count": 11,
     "metadata": {},
     "output_type": "execute_result"
    }
   ],
   "source": [
    "numalt_bincount_wg[2:].sum() / n_snps_wg"
   ]
  },
  {
   "cell_type": "code",
   "execution_count": 12,
   "metadata": {},
   "outputs": [
    {
     "name": "stderr",
     "output_type": "stream",
     "text": [
      "/home/aliman/malariagen/binder/conda/envs/dphil-v2.5.1/lib/python3.7/site-packages/dask/dataframe/utils.py:14: FutureWarning: pandas.util.testing is deprecated. Use the functions in the public API at pandas.testing instead.\n",
      "  import pandas.util.testing as tm\n"
     ]
    },
    {
     "data": {
      "text/html": [
       "<div>\n",
       "<style scoped>\n",
       "    .dataframe tbody tr th:only-of-type {\n",
       "        vertical-align: middle;\n",
       "    }\n",
       "\n",
       "    .dataframe tbody tr th {\n",
       "        vertical-align: top;\n",
       "    }\n",
       "\n",
       "    .dataframe thead th {\n",
       "        text-align: right;\n",
       "    }\n",
       "</style>\n",
       "<table border=\"1\" class=\"dataframe\">\n",
       "  <thead>\n",
       "    <tr style=\"text-align: right;\">\n",
       "      <th></th>\n",
       "      <th>index</th>\n",
       "      <th>ox_code</th>\n",
       "      <th>src_code</th>\n",
       "      <th>sra_sample_accession</th>\n",
       "      <th>population</th>\n",
       "      <th>country</th>\n",
       "      <th>region</th>\n",
       "      <th>contributor</th>\n",
       "      <th>contact</th>\n",
       "      <th>year</th>\n",
       "      <th>m_s</th>\n",
       "      <th>sex</th>\n",
       "      <th>n_sequences</th>\n",
       "      <th>mean_coverage</th>\n",
       "      <th>latitude</th>\n",
       "      <th>longitude</th>\n",
       "    </tr>\n",
       "  </thead>\n",
       "  <tbody>\n",
       "    <tr>\n",
       "      <th>0</th>\n",
       "      <td>0</td>\n",
       "      <td>AB0085-C</td>\n",
       "      <td>BF2-4</td>\n",
       "      <td>ERS223996</td>\n",
       "      <td>BFS</td>\n",
       "      <td>Burkina Faso</td>\n",
       "      <td>Pala</td>\n",
       "      <td>Austin Burt</td>\n",
       "      <td>Sam O'Loughlin</td>\n",
       "      <td>2012</td>\n",
       "      <td>S</td>\n",
       "      <td>F</td>\n",
       "      <td>89905852</td>\n",
       "      <td>28.01</td>\n",
       "      <td>11.150</td>\n",
       "      <td>-4.235</td>\n",
       "    </tr>\n",
       "    <tr>\n",
       "      <th>1</th>\n",
       "      <td>1</td>\n",
       "      <td>AB0087-C</td>\n",
       "      <td>BF3-3</td>\n",
       "      <td>ERS224013</td>\n",
       "      <td>BFM</td>\n",
       "      <td>Burkina Faso</td>\n",
       "      <td>Bana</td>\n",
       "      <td>Austin Burt</td>\n",
       "      <td>Sam O'Loughlin</td>\n",
       "      <td>2012</td>\n",
       "      <td>M</td>\n",
       "      <td>F</td>\n",
       "      <td>116706234</td>\n",
       "      <td>36.76</td>\n",
       "      <td>11.233</td>\n",
       "      <td>-4.472</td>\n",
       "    </tr>\n",
       "    <tr>\n",
       "      <th>2</th>\n",
       "      <td>2</td>\n",
       "      <td>AB0088-C</td>\n",
       "      <td>BF3-5</td>\n",
       "      <td>ERS223991</td>\n",
       "      <td>BFM</td>\n",
       "      <td>Burkina Faso</td>\n",
       "      <td>Bana</td>\n",
       "      <td>Austin Burt</td>\n",
       "      <td>Sam O'Loughlin</td>\n",
       "      <td>2012</td>\n",
       "      <td>M</td>\n",
       "      <td>F</td>\n",
       "      <td>112090460</td>\n",
       "      <td>23.30</td>\n",
       "      <td>11.233</td>\n",
       "      <td>-4.472</td>\n",
       "    </tr>\n",
       "    <tr>\n",
       "      <th>3</th>\n",
       "      <td>3</td>\n",
       "      <td>AB0089-C</td>\n",
       "      <td>BF3-8</td>\n",
       "      <td>ERS224031</td>\n",
       "      <td>BFM</td>\n",
       "      <td>Burkina Faso</td>\n",
       "      <td>Bana</td>\n",
       "      <td>Austin Burt</td>\n",
       "      <td>Sam O'Loughlin</td>\n",
       "      <td>2012</td>\n",
       "      <td>M</td>\n",
       "      <td>F</td>\n",
       "      <td>145350454</td>\n",
       "      <td>41.36</td>\n",
       "      <td>11.233</td>\n",
       "      <td>-4.472</td>\n",
       "    </tr>\n",
       "    <tr>\n",
       "      <th>4</th>\n",
       "      <td>4</td>\n",
       "      <td>AB0090-C</td>\n",
       "      <td>BF3-10</td>\n",
       "      <td>ERS223936</td>\n",
       "      <td>BFM</td>\n",
       "      <td>Burkina Faso</td>\n",
       "      <td>Bana</td>\n",
       "      <td>Austin Burt</td>\n",
       "      <td>Sam O'Loughlin</td>\n",
       "      <td>2012</td>\n",
       "      <td>M</td>\n",
       "      <td>F</td>\n",
       "      <td>105012254</td>\n",
       "      <td>34.64</td>\n",
       "      <td>11.233</td>\n",
       "      <td>-4.472</td>\n",
       "    </tr>\n",
       "  </tbody>\n",
       "</table>\n",
       "</div>"
      ],
      "text/plain": [
       "   index   ox_code src_code sra_sample_accession population       country  \\\n",
       "0      0  AB0085-C    BF2-4            ERS223996        BFS  Burkina Faso   \n",
       "1      1  AB0087-C    BF3-3            ERS224013        BFM  Burkina Faso   \n",
       "2      2  AB0088-C    BF3-5            ERS223991        BFM  Burkina Faso   \n",
       "3      3  AB0089-C    BF3-8            ERS224031        BFM  Burkina Faso   \n",
       "4      4  AB0090-C   BF3-10            ERS223936        BFM  Burkina Faso   \n",
       "\n",
       "  region  contributor         contact  year m_s sex  n_sequences  \\\n",
       "0   Pala  Austin Burt  Sam O'Loughlin  2012   S   F     89905852   \n",
       "1   Bana  Austin Burt  Sam O'Loughlin  2012   M   F    116706234   \n",
       "2   Bana  Austin Burt  Sam O'Loughlin  2012   M   F    112090460   \n",
       "3   Bana  Austin Burt  Sam O'Loughlin  2012   M   F    145350454   \n",
       "4   Bana  Austin Burt  Sam O'Loughlin  2012   M   F    105012254   \n",
       "\n",
       "   mean_coverage  latitude  longitude  \n",
       "0          28.01    11.150     -4.235  \n",
       "1          36.76    11.233     -4.472  \n",
       "2          23.30    11.233     -4.472  \n",
       "3          41.36    11.233     -4.472  \n",
       "4          34.64    11.233     -4.472  "
      ]
     },
     "execution_count": 12,
     "metadata": {},
     "output_type": "execute_result"
    }
   ],
   "source": [
    "samples = ag1.samples.read()\n",
    "samples.head()"
   ]
  },
  {
   "cell_type": "code",
   "execution_count": 13,
   "metadata": {},
   "outputs": [],
   "source": [
    "allele_counts = ag1.allele_counts_pass.to_zarr()"
   ]
  },
  {
   "cell_type": "code",
   "execution_count": 14,
   "metadata": {},
   "outputs": [
    {
     "data": {
      "text/plain": [
       "['2L', '2R', '3L', '3R', 'X']"
      ]
     },
     "execution_count": 14,
     "metadata": {},
     "output_type": "execute_result"
    }
   ],
   "source": [
    "list(allele_counts)"
   ]
  },
  {
   "cell_type": "code",
   "execution_count": 15,
   "metadata": {},
   "outputs": [
    {
     "data": {
      "text/plain": [
       "['AOM',\n",
       " 'BFM',\n",
       " 'BFS',\n",
       " 'CMS',\n",
       " 'GAS',\n",
       " 'GNS',\n",
       " 'GWA',\n",
       " 'KES',\n",
       " 'UGS',\n",
       " 'all',\n",
       " 'all_m',\n",
       " 'all_s']"
      ]
     },
     "execution_count": 15,
     "metadata": {},
     "output_type": "execute_result"
    }
   ],
   "source": [
    "list(allele_counts['2L'])"
   ]
  },
  {
   "cell_type": "code",
   "execution_count": 16,
   "metadata": {},
   "outputs": [
    {
     "data": {
      "text/plain": [
       "array(['BFS', 'BFM', 'UGS', 'GWA', 'KES', 'CMS', 'AOM', 'GAS', 'GNS'],\n",
       "      dtype=object)"
      ]
     },
     "execution_count": 16,
     "metadata": {},
     "output_type": "execute_result"
    }
   ],
   "source": [
    "pops = samples.population.unique()\n",
    "pops"
   ]
  },
  {
   "cell_type": "code",
   "execution_count": 17,
   "metadata": {},
   "outputs": [
    {
     "name": "stdout",
     "output_type": "stream",
     "text": [
      "AOM\n",
      "BFM\n",
      "BFS\n",
      "CMS\n",
      "GAS\n",
      "GNS\n",
      "GWA\n",
      "KES\n",
      "UGS\n",
      "all\n",
      "all_m\n",
      "all_s\n"
     ]
    },
    {
     "data": {
      "text/plain": [
       "{'AOM': array([[120,   0,   0,   0],\n",
       "        [120,   0,   0,   0],\n",
       "        [120,   0,   0,   0],\n",
       "        ...,\n",
       "        [120,   0,   0,   0],\n",
       "        [120,   0,   0,   0],\n",
       "        [120,   0,   0,   0]], dtype=int32),\n",
       " 'BFM': array([[138,   0,   0,   0],\n",
       "        [138,   0,   0,   0],\n",
       "        [138,   0,   0,   0],\n",
       "        ...,\n",
       "        [132,   0,   0,   0],\n",
       "        [ 71,  61,   0,   0],\n",
       "        [132,   0,   0,   0]], dtype=int32),\n",
       " 'BFS': array([[157,   5,   0,   0],\n",
       "        [162,   0,   0,   0],\n",
       "        [162,   0,   0,   0],\n",
       "        ...,\n",
       "        [122,   0,   0,   0],\n",
       "        [122,   0,   0,   0],\n",
       "        [ 65,  57,   0,   0]], dtype=int32),\n",
       " 'CMS': array([[522,  28,   0,   0],\n",
       "        [547,   3,   0,   0],\n",
       "        [549,   1,   0,   0],\n",
       "        ...,\n",
       "        [464,   0,   0,   0],\n",
       "        [464,   0,   0,   0],\n",
       "        [256, 208,   0,   0]], dtype=int32),\n",
       " 'GAS': array([[110,   2,   0,   0],\n",
       "        [112,   0,   0,   0],\n",
       "        [112,   0,   0,   0],\n",
       "        ...,\n",
       "        [112,   0,   0,   0],\n",
       "        [112,   0,   0,   0],\n",
       "        [ 97,  15,   0,   0]], dtype=int32),\n",
       " 'GNS': array([[61,  1,  0,  0],\n",
       "        [62,  0,  0,  0],\n",
       "        [62,  0,  0,  0],\n",
       "        ...,\n",
       "        [62,  0,  0,  0],\n",
       "        [62,  0,  0,  0],\n",
       "        [37, 25,  0,  0]], dtype=int32),\n",
       " 'GWA': array([[92,  0,  0,  0],\n",
       "        [92,  0,  0,  0],\n",
       "        [92,  0,  0,  0],\n",
       "        ...,\n",
       "        [91,  1,  0,  0],\n",
       "        [88,  4,  0,  0],\n",
       "        [48, 44,  0,  0]], dtype=int32),\n",
       " 'KES': array([[86,  0,  0,  0],\n",
       "        [86,  0,  0,  0],\n",
       "        [86,  0,  0,  0],\n",
       "        ...,\n",
       "        [88,  0,  0,  0],\n",
       "        [88,  0,  0,  0],\n",
       "        [45, 43,  0,  0]], dtype=int32),\n",
       " 'UGS': array([[198,   8,   0,   0],\n",
       "        [206,   0,   0,   0],\n",
       "        [206,   0,   0,   0],\n",
       "        ...,\n",
       "        [206,   0,   0,   0],\n",
       "        [206,   0,   0,   0],\n",
       "        [109,  97,   0,   0]], dtype=int32),\n",
       " 'all': array([[1484,   44,    0,    0],\n",
       "        [1525,    3,    0,    0],\n",
       "        [1527,    1,    0,    0],\n",
       "        ...,\n",
       "        [1397,    1,    0,    0],\n",
       "        [1325,   71,    0,    0],\n",
       "        [ 895,  501,    0,    0]], dtype=int32),\n",
       " 'all_m': array([[258,   0,   0,   0],\n",
       "        [258,   0,   0,   0],\n",
       "        [258,   0,   0,   0],\n",
       "        ...,\n",
       "        [252,   0,   0,   0],\n",
       "        [191,  61,   0,   0],\n",
       "        [252,   0,   0,   0]], dtype=int32),\n",
       " 'all_s': array([[1046,   44,    0,    0],\n",
       "        [1087,    3,    0,    0],\n",
       "        [1089,    1,    0,    0],\n",
       "        ...,\n",
       "        [ 964,    0,    0,    0],\n",
       "        [ 964,    0,    0,    0],\n",
       "        [ 563,  401,    0,    0]], dtype=int32)}"
      ]
     },
     "execution_count": 17,
     "metadata": {},
     "output_type": "execute_result"
    }
   ],
   "source": [
    "acs = dict()\n",
    "for key in allele_counts['2L']:\n",
    "    print(key)\n",
    "    acs[key] = np.concatenate([allele_counts[chrom][key] for chrom in chroms], axis=0)\n",
    "acs"
   ]
  },
  {
   "cell_type": "code",
   "execution_count": 18,
   "metadata": {},
   "outputs": [
    {
     "data": {
      "text/plain": [
       "(52525957, 4)"
      ]
     },
     "execution_count": 18,
     "metadata": {},
     "output_type": "execute_result"
    }
   ],
   "source": [
    "acs['all'].shape"
   ]
  },
  {
   "cell_type": "code",
   "execution_count": 19,
   "metadata": {},
   "outputs": [
    {
     "data": {
      "text/plain": [
       "array([[1484,   44,    0,    0],\n",
       "       [1525,    3,    0,    0],\n",
       "       [1527,    1,    0,    0],\n",
       "       ...,\n",
       "       [1397,    1,    0,    0],\n",
       "       [1325,   71,    0,    0],\n",
       "       [ 895,  501,    0,    0]], dtype=int32)"
      ]
     },
     "execution_count": 19,
     "metadata": {},
     "output_type": "execute_result"
    }
   ],
   "source": [
    "acs['all']"
   ]
  },
  {
   "cell_type": "code",
   "execution_count": 20,
   "metadata": {},
   "outputs": [],
   "source": [
    "n_singletons = np.count_nonzero(acs['all'][:, 1:] == 1)"
   ]
  },
  {
   "cell_type": "code",
   "execution_count": 21,
   "metadata": {},
   "outputs": [
    {
     "data": {
      "text/plain": [
       "21783339"
      ]
     },
     "execution_count": 21,
     "metadata": {},
     "output_type": "execute_result"
    }
   ],
   "source": [
    "n_singletons"
   ]
  },
  {
   "cell_type": "code",
   "execution_count": 22,
   "metadata": {},
   "outputs": [
    {
     "data": {
      "text/plain": [
       "array([[9, 5, 0, 0],\n",
       "       [9, 1, 0, 0],\n",
       "       [9, 1, 0, 0],\n",
       "       ...,\n",
       "       [9, 1, 0, 0],\n",
       "       [9, 2, 0, 0],\n",
       "       [9, 7, 0, 0]])"
      ]
     },
     "execution_count": 22,
     "metadata": {},
     "output_type": "execute_result"
    }
   ],
   "source": [
    "n_pops = np.zeros(acs['all'].shape, dtype=int)\n",
    "for pop in pops:\n",
    "    n_pops += acs[pop] > 0\n",
    "n_pops"
   ]
  },
  {
   "cell_type": "code",
   "execution_count": 23,
   "metadata": {},
   "outputs": [
    {
     "data": {
      "text/plain": [
       "31228996"
      ]
     },
     "execution_count": 23,
     "metadata": {},
     "output_type": "execute_result"
    }
   ],
   "source": [
    "n_pop_private = np.count_nonzero(n_pops[:, 1:] == 1)\n",
    "n_pop_private"
   ]
  },
  {
   "cell_type": "code",
   "execution_count": 24,
   "metadata": {},
   "outputs": [],
   "source": [
    "ac_all_gam = acs['BFS'] + acs['GNS'] + acs['CMS'] + acs['GAS'] + acs['UGS']\n",
    "ac_all_col = acs['BFM'] + acs['AOM']"
   ]
  },
  {
   "cell_type": "code",
   "execution_count": 28,
   "metadata": {},
   "outputs": [
    {
     "data": {
      "text/plain": [
       "17144828"
      ]
     },
     "execution_count": 28,
     "metadata": {},
     "output_type": "execute_result"
    }
   ],
   "source": [
    "n_private_gam = np.count_nonzero((n_pops[:, 1:] > 1) & (ac_all_gam[:, 1:] > 0) & (ac_all_col[:, 1:] == 0))\n",
    "n_private_gam"
   ]
  },
  {
   "cell_type": "code",
   "execution_count": 29,
   "metadata": {},
   "outputs": [
    {
     "data": {
      "text/plain": [
       "1252245"
      ]
     },
     "execution_count": 29,
     "metadata": {},
     "output_type": "execute_result"
    }
   ],
   "source": [
    "n_private_col = np.count_nonzero((n_pops[:, 1:] > 1) & (ac_all_col[:, 1:] > 0) & (ac_all_gam[:, 1:] == 0))\n",
    "n_private_col"
   ]
  },
  {
   "cell_type": "code",
   "execution_count": 30,
   "metadata": {},
   "outputs": [
    {
     "data": {
      "text/plain": [
       "14688252"
      ]
     },
     "execution_count": 30,
     "metadata": {},
     "output_type": "execute_result"
    }
   ],
   "source": [
    "n_shared_gam_col = np.count_nonzero((ac_all_gam[:, 1:] > 0) & (ac_all_col[:, 1:] > 0))\n",
    "n_shared_gam_col"
   ]
  },
  {
   "cell_type": "code",
   "execution_count": 31,
   "metadata": {},
   "outputs": [
    {
     "data": {
      "text/plain": [
       "52525957"
      ]
     },
     "execution_count": 31,
     "metadata": {},
     "output_type": "execute_result"
    }
   ],
   "source": [
    "n_snps_wg"
   ]
  },
  {
   "cell_type": "code",
   "execution_count": 32,
   "metadata": {},
   "outputs": [],
   "source": [
    "accessibility = ag1.accessibility.to_zarr()"
   ]
  },
  {
   "cell_type": "code",
   "execution_count": 33,
   "metadata": {},
   "outputs": [
    {
     "name": "stdout",
     "output_type": "stream",
     "text": [
      "2R 40226694\n",
      "2L 28337781\n",
      "3R 32878411\n",
      "3L 25210747\n",
      "X 14812243\n"
     ]
    },
    {
     "data": {
      "text/plain": [
       "141465876"
      ]
     },
     "execution_count": 33,
     "metadata": {},
     "output_type": "execute_result"
    }
   ],
   "source": [
    "n_access_wg = 0\n",
    "for chrom in chroms:\n",
    "    n_access_chrom = np.count_nonzero(accessibility[chrom]['is_accessible'][:])\n",
    "    print(chrom, n_access_chrom)\n",
    "    n_access_wg += n_access_chrom\n",
    "n_access_wg"
   ]
  },
  {
   "cell_type": "code",
   "execution_count": 35,
   "metadata": {},
   "outputs": [
    {
     "data": {
      "text/plain": [
       "0.4558130400295263"
      ]
     },
     "execution_count": 35,
     "metadata": {},
     "output_type": "execute_result"
    }
   ],
   "source": [
    "n_alts_wg / n_access_wg"
   ]
  },
  {
   "cell_type": "code",
   "execution_count": 36,
   "metadata": {},
   "outputs": [
    {
     "data": {
      "text/plain": [
       "2.1938819475968105"
      ]
     },
     "execution_count": 36,
     "metadata": {},
     "output_type": "execute_result"
    }
   ],
   "source": [
    "n_access_wg / n_alts_wg"
   ]
  },
  {
   "cell_type": "code",
   "execution_count": null,
   "metadata": {},
   "outputs": [],
   "source": []
  }
 ],
 "metadata": {
  "kernelspec": {
   "display_name": "Python 3",
   "language": "python",
   "name": "python3"
  },
  "language_info": {
   "codemirror_mode": {
    "name": "ipython",
    "version": 3
   },
   "file_extension": ".py",
   "mimetype": "text/x-python",
   "name": "python",
   "nbconvert_exporter": "python",
   "pygments_lexer": "ipython3",
   "version": "3.7.6"
  }
 },
 "nbformat": 4,
 "nbformat_minor": 4
}
