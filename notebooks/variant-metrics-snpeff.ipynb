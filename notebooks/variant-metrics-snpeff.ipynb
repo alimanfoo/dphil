{
 "cells": [
  {
   "cell_type": "code",
   "execution_count": 9,
   "metadata": {},
   "outputs": [],
   "source": [
    "import intake\n",
    "import numpy as np\n",
    "from collections import Counter"
   ]
  },
  {
   "cell_type": "code",
   "execution_count": 2,
   "metadata": {},
   "outputs": [
    {
     "data": {
      "application/json": "gcs:\n  args:\n    path: https://malariagen.github.io/intake/gcs.yml\n  description: ''\n  driver: intake.catalog.local.YAMLFileCatalog\n  metadata:\n    version: 1\n",
      "text/plain": [
       "gcs:\n",
       "  args:\n",
       "    path: https://malariagen.github.io/intake/gcs.yml\n",
       "  description: ''\n",
       "  driver: intake.catalog.local.YAMLFileCatalog\n",
       "  metadata:\n",
       "    version: 1\n"
      ]
     },
     "metadata": {
      "application/json": {
       "root": "gcs"
      }
     },
     "output_type": "display_data"
    }
   ],
   "source": [
    "cat = intake.open_catalog('https://malariagen.github.io/intake/gcs.yml')\n",
    "cat"
   ]
  },
  {
   "cell_type": "code",
   "execution_count": 3,
   "metadata": {},
   "outputs": [
    {
     "data": {
      "text/plain": [
       "['samples',\n",
       " 'snps',\n",
       " 'snps_pass',\n",
       " 'snps_pass_biallelic',\n",
       " 'haps',\n",
       " 'accessibility',\n",
       " 'allele_counts_pass']"
      ]
     },
     "execution_count": 3,
     "metadata": {},
     "output_type": "execute_result"
    }
   ],
   "source": [
    "ag1 = cat.ag1\n",
    "list(ag1)"
   ]
  },
  {
   "cell_type": "code",
   "execution_count": 14,
   "metadata": {},
   "outputs": [],
   "source": [
    "snps_pass = ag1.snps_pass.to_zarr()"
   ]
  },
  {
   "cell_type": "code",
   "execution_count": 19,
   "metadata": {},
   "outputs": [],
   "source": [
    "chroms = '2R', '2L', '3R', '3L', 'X'"
   ]
  },
  {
   "cell_type": "code",
   "execution_count": 20,
   "metadata": {},
   "outputs": [],
   "source": [
    "def count_annotations():\n",
    "    x = None\n",
    "    for chrom in chroms:\n",
    "        y = Counter(snps_pass[chrom]['variants/ANN_Annotation'][:])\n",
    "        if x is None:\n",
    "            x = y\n",
    "        else:\n",
    "            x += y\n",
    "    return x"
   ]
  },
  {
   "cell_type": "code",
   "execution_count": 25,
   "metadata": {},
   "outputs": [
    {
     "data": {
      "text/plain": [
       "[('intergenic_region', 21932312),\n",
       " ('intron_variant', 10893831),\n",
       " ('upstream_gene_variant', 8960291),\n",
       " ('downstream_gene_variant', 5012563),\n",
       " ('synonymous_variant', 2574257),\n",
       " ('missense_variant', 1794285),\n",
       " ('3_prime_UTR_variant', 480546),\n",
       " ('5_prime_UTR_variant', 325007),\n",
       " ('intragenic_variant', 280084),\n",
       " ('splice_region_variant&intron_variant', 140048),\n",
       " ('5_prime_UTR_premature_start_codon_gain_variant', 60784),\n",
       " ('splice_region_variant&synonymous_variant', 20601),\n",
       " ('stop_gained', 15478),\n",
       " ('missense_variant&splice_region_variant', 15246),\n",
       " ('splice_region_variant', 7579),\n",
       " ('splice_donor_variant&intron_variant', 3888),\n",
       " ('splice_acceptor_variant&intron_variant', 3055),\n",
       " ('start_lost', 1424),\n",
       " ('splice_region_variant&stop_retained_variant', 1320),\n",
       " ('stop_retained_variant', 1152),\n",
       " ('stop_lost&splice_region_variant', 907),\n",
       " ('stop_lost', 639),\n",
       " ('stop_gained&splice_region_variant', 266),\n",
       " ('initiator_codon_variant', 246),\n",
       " ('splice_acceptor_variant&splice_region_variant&intron_variant', 36),\n",
       " ('splice_donor_variant&splice_region_variant&intron_variant', 32),\n",
       " ('splice_acceptor_variant&splice_donor_variant&intron_variant', 26),\n",
       " ('splice_region_variant&splice_region_variant&intron_variant', 22),\n",
       " ('start_lost&splice_region_variant', 20),\n",
       " ('initiator_codon_variant&non_canonical_start_codon', 10),\n",
       " ('missense_variant&splice_region_variant&splice_region_variant', 1),\n",
       " ('splice_region_variant&initiator_codon_variant', 1)]"
      ]
     },
     "execution_count": 25,
     "metadata": {},
     "output_type": "execute_result"
    }
   ],
   "source": [
    "ca = count_annotations()\n",
    "ca.most_common()"
   ]
  },
  {
   "cell_type": "code",
   "execution_count": 31,
   "metadata": {},
   "outputs": [
    {
     "data": {
      "text/plain": [
       "[('intergenic_region', 21932312),\n",
       " ('intron_variant', 11040938),\n",
       " ('upstream_gene_variant', 8960291),\n",
       " ('downstream_gene_variant', 5012563),\n",
       " ('synonymous_variant', 2594858),\n",
       " ('missense_variant', 1809532),\n",
       " ('3_prime_UTR_variant', 480546),\n",
       " ('5_prime_UTR_variant', 325007),\n",
       " ('intragenic_variant', 280084),\n",
       " ('splice_region_variant', 186102),\n",
       " ('5_prime_UTR_premature_start_codon_gain_variant', 60784),\n",
       " ('stop_gained', 15744),\n",
       " ('splice_donor_variant', 3946),\n",
       " ('splice_acceptor_variant', 3117),\n",
       " ('stop_retained_variant', 2472),\n",
       " ('stop_lost', 1546),\n",
       " ('start_lost', 1444),\n",
       " ('initiator_codon_variant', 257),\n",
       " ('non_canonical_start_codon', 10)]"
      ]
     },
     "execution_count": 31,
     "metadata": {},
     "output_type": "execute_result"
    }
   ],
   "source": [
    "ca_clean = Counter()\n",
    "for k, n in ca.items():\n",
    "    if '&' in k:\n",
    "        for s in k.split('&'):\n",
    "            ca_clean[s] += n\n",
    "    else:\n",
    "        ca_clean[k] += n\n",
    "ca_clean.most_common()"
   ]
  },
  {
   "cell_type": "code",
   "execution_count": 35,
   "metadata": {},
   "outputs": [
    {
     "name": "stdout",
     "output_type": "stream",
     "text": [
      "intergenic\\_region & 21,932,312 \\\\\n",
      "intron\\_variant & 11,040,938 \\\\\n",
      "upstream\\_gene\\_variant & 8,960,291 \\\\\n",
      "downstream\\_gene\\_variant & 5,012,563 \\\\\n",
      "synonymous\\_variant & 2,594,858 \\\\\n",
      "missense\\_variant & 1,809,532 \\\\\n",
      "3\\_prime\\_UTR\\_variant & 480,546 \\\\\n",
      "5\\_prime\\_UTR\\_variant & 325,007 \\\\\n",
      "intragenic\\_variant & 280,084 \\\\\n",
      "splice\\_region\\_variant & 186,102 \\\\\n",
      "5\\_prime\\_UTR\\_premature\\_start\\_codon\\_gain\\_variant & 60,784 \\\\\n",
      "stop\\_gained & 15,744 \\\\\n",
      "splice\\_donor\\_variant & 3,946 \\\\\n",
      "splice\\_acceptor\\_variant & 3,117 \\\\\n",
      "stop\\_retained\\_variant & 2,472 \\\\\n",
      "stop\\_lost & 1,546 \\\\\n",
      "start\\_lost & 1,444 \\\\\n",
      "initiator\\_codon\\_variant & 257 \\\\\n",
      "non\\_canonical\\_start\\_codon & 10 \\\\\n"
     ]
    }
   ],
   "source": [
    "for k, v in ca_clean.most_common():\n",
    "    a = k.replace(\"_\", \"\\\\_\")\n",
    "    print(f'{a} & {v:,} \\\\\\\\')"
   ]
  },
  {
   "cell_type": "code",
   "execution_count": 37,
   "metadata": {},
   "outputs": [
    {
     "data": {
      "text/plain": [
       "4404390"
      ]
     },
     "execution_count": 37,
     "metadata": {},
     "output_type": "execute_result"
    }
   ],
   "source": [
    "coding = ca_clean['synonymous_variant'] + ca_clean['missense_variant']\n",
    "coding"
   ]
  },
  {
   "cell_type": "code",
   "execution_count": 39,
   "metadata": {},
   "outputs": [
    {
     "data": {
      "text/plain": [
       "0.08385168498691038"
      ]
     },
     "execution_count": 39,
     "metadata": {},
     "output_type": "execute_result"
    }
   ],
   "source": [
    "coding / 52525957"
   ]
  },
  {
   "cell_type": "code",
   "execution_count": 40,
   "metadata": {},
   "outputs": [
    {
     "data": {
      "text/plain": [
       "0.5891526408878415"
      ]
     },
     "execution_count": 40,
     "metadata": {},
     "output_type": "execute_result"
    }
   ],
   "source": [
    "ca_clean['synonymous_variant'] / coding"
   ]
  },
  {
   "cell_type": "code",
   "execution_count": 41,
   "metadata": {},
   "outputs": [
    {
     "data": {
      "text/plain": [
       "0.41084735911215853"
      ]
     },
     "execution_count": 41,
     "metadata": {},
     "output_type": "execute_result"
    }
   ],
   "source": [
    "ca_clean['missense_variant'] / coding"
   ]
  },
  {
   "cell_type": "code",
   "execution_count": 26,
   "metadata": {},
   "outputs": [],
   "source": [
    "def count_annotation_impacts():\n",
    "    x = None\n",
    "    for chrom in chroms:\n",
    "        y = Counter(snps_pass[chrom]['variants/ANN_Annotation_Impact'][:])\n",
    "        if x is None:\n",
    "            x = y\n",
    "        else:\n",
    "            x += y\n",
    "    return x"
   ]
  },
  {
   "cell_type": "code",
   "execution_count": 27,
   "metadata": {},
   "outputs": [
    {
     "data": {
      "text/plain": [
       "[('MODIFIER', 47884634),\n",
       " ('LOW', 2806020),\n",
       " ('MODERATE', 1809532),\n",
       " ('HIGH', 25771)]"
      ]
     },
     "execution_count": 27,
     "metadata": {},
     "output_type": "execute_result"
    }
   ],
   "source": [
    "cai = count_annotation_impacts()\n",
    "cai.most_common()"
   ]
  },
  {
   "cell_type": "code",
   "execution_count": null,
   "metadata": {},
   "outputs": [],
   "source": []
  }
 ],
 "metadata": {
  "kernelspec": {
   "display_name": "Python 3",
   "language": "python",
   "name": "python3"
  },
  "language_info": {
   "codemirror_mode": {
    "name": "ipython",
    "version": 3
   },
   "file_extension": ".py",
   "mimetype": "text/x-python",
   "name": "python",
   "nbconvert_exporter": "python",
   "pygments_lexer": "ipython3",
   "version": "3.7.6"
  }
 },
 "nbformat": 4,
 "nbformat_minor": 4
}
