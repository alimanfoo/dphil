{
 "cells": [
  {
   "cell_type": "code",
   "execution_count": 2,
   "metadata": {
    "collapsed": false
   },
   "outputs": [
    {
     "data": {
      "text/html": [
       "<style type=\"text/css\">\n",
       ".container {\n",
       "    width: 96%;\n",
       "}\n",
       "#maintoolbar {\n",
       "    display: none;\n",
       "}\n",
       "#header-container {\n",
       "    display: none;\n",
       "}\n",
       "#notebook {\n",
       "    padding-top: 0;\n",
       "}\n",
       "</style>"
      ],
      "text/plain": [
       "<IPython.core.display.HTML object>"
      ]
     },
     "metadata": {},
     "output_type": "display_data"
    }
   ],
   "source": [
    "%%HTML\n",
    "<style type=\"text/css\">\n",
    ".container {\n",
    "    width: 100%;\n",
    "}\n",
    "#maintoolbar {\n",
    "    display: none;\n",
    "}\n",
    "#header-container {\n",
    "    display: none;\n",
    "}\n",
    "#notebook {\n",
    "    padding-top: 0;\n",
    "}\n",
    "</style>"
   ]
  },
  {
   "cell_type": "code",
   "execution_count": 3,
   "metadata": {
    "collapsed": true
   },
   "outputs": [],
   "source": [
    "# python standard library\n",
    "import sys\n",
    "import os\n",
    "import operator\n",
    "import itertools\n",
    "import collections\n",
    "import functools\n",
    "import glob\n",
    "import csv\n",
    "import datetime\n",
    "import bisect\n",
    "import sqlite3\n",
    "import subprocess\n",
    "import random\n",
    "import gc\n",
    "import shutil\n",
    "import shelve\n",
    "import contextlib\n",
    "import tempfile\n",
    "import math"
   ]
  },
  {
   "cell_type": "code",
   "execution_count": 4,
   "metadata": {
    "collapsed": true
   },
   "outputs": [],
   "source": [
    "# general purpose third party packages\n",
    "\n",
    "import cython\n",
    "%reload_ext Cython\n",
    "\n",
    "import numpy as np\n",
    "nnz = np.count_nonzero\n",
    "import scipy\n",
    "import scipy.stats\n",
    "import scipy.spatial.distance\n",
    "import numexpr\n",
    "import h5py\n",
    "import tables\n",
    "import bcolz\n",
    "import dask\n",
    "import dask.array as da\n",
    "import pandas\n",
    "import IPython\n",
    "from IPython.display import clear_output, display, HTML\n",
    "# import rpy2\n",
    "# import rpy2.robjects as ro\n",
    "# %reload_ext rpy2.ipython\n",
    "import statsmodels\n",
    "import sklearn\n",
    "import sklearn.decomposition\n",
    "import sklearn.manifold\n",
    "import sh\n",
    "import sqlalchemy\n",
    "import pymysql\n",
    "import psycopg2\n",
    "import petl as etl\n",
    "etl.config.display_index_header = True\n",
    "import humanize\n",
    "from humanize import naturalsize, intcomma, intword\n",
    "import zarr"
   ]
  },
  {
   "cell_type": "code",
   "execution_count": 5,
   "metadata": {
    "collapsed": false
   },
   "outputs": [],
   "source": [
    "# plotting setup\n",
    "%matplotlib inline\n",
    "import matplotlib as mpl\n",
    "import matplotlib.pyplot as plt\n",
    "from matplotlib.colors import ListedColormap\n",
    "from matplotlib.gridspec import GridSpec\n",
    "import matplotlib_venn as venn\n",
    "import seaborn as sns\n",
    "sns.set_context('paper')\n",
    "sns.set_style('white')\n",
    "sns.set_style('ticks')\n",
    "rcParams = plt.rcParams\n",
    "# N.B., reduced font size\n",
    "rcParams['font.size'] = 6\n",
    "rcParams['axes.labelsize'] = 6\n",
    "rcParams['xtick.labelsize'] = 6\n",
    "rcParams['ytick.labelsize'] = 6\n",
    "rcParams['legend.fontsize'] = 6\n",
    "rcParams['axes.linewidth'] = .5\n",
    "rcParams['lines.linewidth'] = .5\n",
    "rcParams['patch.linewidth'] = .5\n",
    "rcParams['ytick.direction'] = 'out'\n",
    "rcParams['xtick.direction'] = 'out'\n",
    "rcParams['savefig.jpeg_quality'] = 100\n",
    "rcParams['savefig.dpi'] = 120\n",
    "rcParams['lines.markeredgewidth'] = .5\n",
    "rcParams['figure.figsize'] = (4.85, 3)"
   ]
  },
  {
   "cell_type": "code",
   "execution_count": 6,
   "metadata": {
    "collapsed": true
   },
   "outputs": [],
   "source": [
    "# bio third party packages\n",
    "import Bio\n",
    "import pyfasta\n",
    "import pysam\n",
    "# currently broken\n",
    "# import pysamstats\n",
    "import petlx\n",
    "import petlx.bio\n",
    "import vcf\n",
    "import vcfnp\n",
    "import anhima\n",
    "import allel\n",
    "try:\n",
    "    import ete3\n",
    "except ImportError:\n",
    "    pass"
   ]
  },
  {
   "cell_type": "code",
   "execution_count": null,
   "metadata": {
    "collapsed": true
   },
   "outputs": [],
   "source": [
    "# ag1k imports\n",
    "sys.path.insert(0, '../../../src/python')\n",
    "from ag1k.util import *\n",
    "from ag1k import phase1_ar3\n",
    "from ag1k import phase1_ar31\n",
    "from ag1k import phase2_ar1"
   ]
  },
  {
   "cell_type": "code",
   "execution_count": null,
   "metadata": {
    "collapsed": true
   },
   "outputs": [],
   "source": [
    "def geneset_to_pandas(geneset):\n",
    "    \"\"\"Life is a bit easier when a geneset is a pandas DataFrame.\"\"\"\n",
    "    items = []\n",
    "    for n in geneset.dtype.names:\n",
    "        v = geneset[n]\n",
    "        # convert bytes columns to unicode (which pandas then converts to object)\n",
    "        if v.dtype.kind == 'S':\n",
    "            v = v.astype('U')\n",
    "        items.append((n, v))\n",
    "    return pandas.DataFrame.from_items(items)"
   ]
  },
  {
   "cell_type": "code",
   "execution_count": null,
   "metadata": {
    "collapsed": true
   },
   "outputs": [],
   "source": [
    "class SeqFeature(object):\n",
    "    \"\"\"Genomic sequence feature, with utilities for mapping between coordinate systems.\n",
    "\n",
    "    Parameters\n",
    "    ----------\n",
    "    seqid : string\n",
    "        Chromosome or contig.\n",
    "    start : int\n",
    "        Start coordinate, 1-based.\n",
    "    end : int\n",
    "        End coordinate, 1-based, end-inclusive.\n",
    "\n",
    "    \"\"\"\n",
    "    \n",
    "    def __init__(self, seqid, start, end, strand='+', genome=None):\n",
    "        self.seqid = seqid\n",
    "        self.start = start\n",
    "        self.end = end\n",
    "        self.strand = strand\n",
    "        self.genome = genome\n",
    "    \n",
    "    @property\n",
    "    def loc(self):\n",
    "        \"\"\"A zero-based stop-exclusive slice.\"\"\"\n",
    "        return slice(self.start - 1, self.end)\n",
    "        \n",
    "    @property\n",
    "    def query(self):\n",
    "        \"\"\"A pandas-style query string.\"\"\"\n",
    "        return \"(seqid == %r) & (start >= %s) & (end <= %s)\" % (self.seqid, self.start, self.end)\n",
    "\n",
    "    @property\n",
    "    def seq(self):\n",
    "        \"\"\"The reference sequence.\"\"\"\n",
    "        return self.genome[self.seqid][self.loc]\n",
    "        \n",
    "    def to_slice(self):\n",
    "        \"\"\"Convert to zero-based stop-exclusive slice. DEPRECATED: use loc property instead.\"\"\"\n",
    "        return slice(self.start - 1, self.end)\n",
    "    \n",
    "    def __len__(self):\n",
    "        # include stard and end positions in length\n",
    "        return self.end - self.start + 1\n",
    "    \n",
    "    def __iter__(self):\n",
    "        yield self.seqid\n",
    "        yield self.start\n",
    "        yield self.end\n",
    "        "
   ]
  },
  {
   "cell_type": "code",
   "execution_count": null,
   "metadata": {
    "collapsed": true
   },
   "outputs": [],
   "source": [
    "cache = Cache(backend=zarr.open_group('/kwiat/vector/ag1000g/analysis/20170111-vgsc/cache.zarr2', mode='a'), \n",
    "              verbose=False)"
   ]
  }
 ],
 "metadata": {
  "kernelspec": {
   "display_name": "Python 3",
   "language": "python",
   "name": "python3"
  },
  "language_info": {
   "codemirror_mode": {
    "name": "ipython",
    "version": 3
   },
   "file_extension": ".py",
   "mimetype": "text/x-python",
   "name": "python",
   "nbconvert_exporter": "python",
   "pygments_lexer": "ipython3",
   "version": "3.5.3"
  }
 },
 "nbformat": 4,
 "nbformat_minor": 1
}
